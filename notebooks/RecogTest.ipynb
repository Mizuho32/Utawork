{
 "cells": [
  {
   "cell_type": "code",
   "execution_count": null,
   "id": "21e24c8c-c7c7-4894-9aec-2ac0a44846db",
   "metadata": {},
   "outputs": [],
   "source": [
    "import os, sys, csv\n",
    "import importlib\n",
    "import json, re\n",
    "\n",
    "#os.environ[\"CUDA_VISIBLE_DEVICES\"] = \"\"\n",
    "sys.path.append(os.path.join('../'))\n",
    "\n",
    "import pickle\n",
    "import librosa.display\n",
    "import scipy\n",
    "import numpy as np\n",
    "import matplotlib.pyplot as plt\n",
    "import ipympl\n",
    "import ipywidgets as wdg\n",
    "from ipywidgets import Layout, HBox, VBox\n",
    "import pygame\n",
    "\n",
    "import torchaudio\n",
    "import torch\n",
    "import IPython.display as ipd\n",
    "\n",
    "import src.recog as recog\n",
    "import src.utils as utils\n",
    "\n",
    "sys.path.append(os.path.join('../ast/src'))\n",
    "from models import ASTModel\n",
    "\n",
    "os.environ['TORCH_HOME'] = '../ast/pretrained_models'\n",
    "\n",
    "torchaudio.set_audio_backend(\"soundfile\")"
   ]
  },
  {
   "cell_type": "code",
   "execution_count": null,
   "id": "f143218f-9a50-4afb-94c3-3b2c5faa5451",
   "metadata": {},
   "outputs": [],
   "source": [
    "sample_freq = 16000\n",
    "mel_bins = 128\n",
    "target_length = 1024\n",
    "\n",
    "# Load a flac file from 0(s) to 60(s) and resample to 4.41 KHz\n",
    "filename = \"../media/2022-3-5_TA.flac\"\n",
    "filename = \"../media/2022-3-5_TA_last4.flac\"\n",
    "filename = \"../media/2022-3-10_Rin_noon_6min.flac\"\n",
    "\n",
    "\n",
    "interval = 10e-3 #ms\n",
    "win_length = 25e-3 #ms\n",
    "\n",
    "# hop_length is number of samples between successive frames.\n",
    "hop_length=int(sample_freq * interval)\n",
    "\n",
    "\n",
    "#ast_model = None\n",
    "if not \"ast_model\" in vars(sys.modules[__name__]) or not ast_model:\n",
    "    ast_model = recog.Recog(ASTModel, target_length, \"../ast/egs/audioset/data/class_labels_indices.csv\")"
   ]
  },
  {
   "cell_type": "code",
   "execution_count": null,
   "id": "8871bfa3-79a2-466f-b667-bd73ba592e14",
   "metadata": {},
   "outputs": [],
   "source": [
    "onto = utils.Ontology('../ontology/ontology.json')\n",
    "interests = onto[utils.reg(r\"^(Singing|Music)$\")]"
   ]
  },
  {
   "cell_type": "code",
   "execution_count": null,
   "id": "9bec805e-2016-420a-b826-7efa940dbfe6",
   "metadata": {},
   "outputs": [],
   "source": [
    "# load\n",
    "with open(\"recog_test.pickle\", mode=\"rb\") as f:\n",
    "    y, sr = pickle.load(f)"
   ]
  },
  {
   "cell_type": "code",
   "execution_count": null,
   "id": "11c6cbc8-b75c-42ac-a99a-2e08f6b88006",
   "metadata": {},
   "outputs": [],
   "source": [
    "#y, sr = librosa.load(filename, sr=sample_freq, mono=False)\n",
    "#y, sr = librosa.load(filename, sr=sample_freq, mono=False, offset=6*60+15, duration=1*60+30)\n",
    "y, sr = librosa.load(filename, sr=44100, mono=False, offset=295, duration=2*60+30)"
   ]
  },
  {
   "cell_type": "code",
   "execution_count": null,
   "id": "249b38f1-2854-4d98-823c-601079bdb6b4",
   "metadata": {},
   "outputs": [],
   "source": [
    "# save\n",
    "with open(\"recog_test.pickle\", mode=\"wb\") as f:\n",
    "    pickle.dump((y, sr), f)"
   ]
  },
  {
   "cell_type": "code",
   "execution_count": null,
   "id": "c322e6c2-b57e-4939-bc5b-2198a71f160c",
   "metadata": {},
   "outputs": [],
   "source": [
    "importlib.reload(recog)\n",
    "\n",
    "%matplotlib widget\n",
    "fig, ax = plt.subplots(nrows=1, sharex=True)\n",
    "recog.Recog.waveplot(plt, librosa, y, sr, ax=ax, max_sr=2, )\n",
    "#fbank_orig = recog.Recog.fbank(y, sr, target_length*2, mel_bins=mel_bins, frame_shift=10)\n",
    "#recog.Recog.specshow(fig, librosa, fbank_orig, sr, hop_length, title=\"Mel spectrogram\", cb=False, w=16, h=4, ax=ax[1])\n",
    "fig.set_size_inches(12, 3)\n",
    "\n",
    "print(sr, y.shape, type(y))\n",
    "\n",
    "\n",
    "# for stop, pygame.mixer.quit()\n",
    "pygame.mixer.pre_init(sr, size=-16, channels=2)\n",
    "pygame.mixer.init()\n",
    "\n",
    "sound = pygame.sndarray.make_sound((32768*y.transpose(1,0).copy(order=\"C\")).astype(np.int16))\n",
    "\n",
    "start_b = wdg.Button(description='Start')\n",
    "stop_b = wdg.Button(description=\"Stop\")\n",
    "start_b.on_click(lambda b: sound.play() )\n",
    "stop_b.on_click(lambda b:  sound.stop() )\n",
    "\n",
    "HBox([start_b, stop_b])"
   ]
  },
  {
   "cell_type": "code",
   "execution_count": null,
   "id": "a38c8109-2a26-46b4-a565-e87d68a9be80",
   "metadata": {},
   "outputs": [],
   "source": [
    "delta = .5\n",
    "duration = 2\n",
    "start = 0#+100\n",
    "cut_length = 300#60+30\n",
    "infer_series = utils.if_not_defined(__name__, \"infer_series\", {})\n",
    "wav = y[..., int(sr*start):int(sr*(cut_length+start))]\n",
    "entire_abs_mean = 0.04501902312040329#np.abs(y).mean()"
   ]
  },
  {
   "cell_type": "code",
   "execution_count": null,
   "id": "664a46da-d050-43ec-ad9b-ce2d763a4165",
   "metadata": {},
   "outputs": [],
   "source": [
    "importlib.reload(recog)\n",
    "importlib.reload(utils)\n",
    "detect_series, detect_d_series, conc_series, states = recog.Recog.detect_music(ast_model, infer_series, start, delta, duration, start, wav, sr, onto, interests, entire_abs_mean=entire_abs_mean,\n",
    "                                                                              interval_plan=[])"
   ]
  },
  {
   "cell_type": "code",
   "execution_count": null,
   "id": "48e31fe1-b731-42f8-998d-2df4f12e8b2e",
   "metadata": {
    "tags": []
   },
   "outputs": [],
   "source": [
    "# https://qiita.com/syoyo/items/a43e568ee5309c4f17d3\n",
    "importlib.reload(recog)\n",
    "\n",
    "%matplotlib widget\n",
    "\n",
    "tmp={}\n",
    "\n",
    "def onclick(event):\n",
    "    text = 'event.button=%d,  event.x=%d, event.y=%d, event.xdata=%f, event.ydata=%f' % (event.button, event.x, event.y, event.xdata, event.ydata)\n",
    "    print(text)\n",
    "    tmp[\"y_cut\"] = y[:, int(sr*event.xdata):-1]\n",
    "    sound = pygame.sndarray.make_sound((32768*tmp[\"y_cut\"].transpose(1,0).copy(order=\"C\")).astype(np.int16))\n",
    "    sound.play()\n",
    "    tmp[\"sound\"] = sound\n",
    "\n",
    "def on_click_callback(clicked_button: wdg.Button) -> None:\n",
    "    tmp[\"sound\"].stop()\n",
    "\n",
    "def plot_all():\n",
    "    button = wdg.Button(description='Stop')\n",
    "    qbutton = wdg.Button(description=\"Quit\")\n",
    "    button.on_click(on_click_callback)\n",
    "    qbutton.on_click(lambda b: pygame.mixer.quit())\n",
    "\n",
    "    # for stop, pygame.mixer.quit()\n",
    "    pygame.mixer.pre_init(sr, size=-16, channels=2)\n",
    "    pygame.mixer.init()\n",
    "\n",
    "    fig, ax = plt.subplots(nrows=5, sharex=True)\n",
    "    recog.Recog.waveplot(plt, librosa, wav, sr, ax=ax[0], offset=start, max_sr=2)\n",
    "    recog.Recog.classifyshow(onto, infer_series, ax=ax[1])\n",
    "    recog.Recog.state_show([recog.State.Music, recog.State.Talking, recog.State.Other], conc_series, ax=ax[2])\n",
    "    recog.Recog.detect_show(detect_series, xstep=4, ax=ax[3])\n",
    "    recog.Recog.detect_show(detect_d_series, xstep=int(cut_length//30), ax=ax[4])\n",
    "\n",
    "    fig.set_size_inches(16, 8)\n",
    "    for a in ax:\n",
    "        a.xaxis.grid()\n",
    "    cid = fig.canvas.mpl_connect('button_press_event', onclick)\n",
    "\n",
    "    #display(txt)\n",
    "    return HBox([button, qbutton])\n",
    "\n",
    "plot_all()"
   ]
  },
  {
   "cell_type": "code",
   "execution_count": null,
   "id": "bd83303b-43cb-4f2f-8f03-d138639e2a76",
   "metadata": {},
   "outputs": [],
   "source": [
    "cut_length = 60+30+30\n",
    "start = recog.Recog.last_cur_time(states[\"prev_c_results\"])\n",
    "wav = y[..., int(sr*start):int(sr*(cut_length+start))]"
   ]
  },
  {
   "cell_type": "code",
   "execution_count": null,
   "id": "fafddf0e-ba4a-4886-a7a8-f33318cf79a4",
   "metadata": {},
   "outputs": [],
   "source": [
    "print(states[\"cur_time\"], wav.shape)"
   ]
  },
  {
   "cell_type": "code",
   "execution_count": null,
   "id": "cd0e5da6-9ba0-4d07-9de1-0f3725f1cea9",
   "metadata": {},
   "outputs": [],
   "source": [
    "for k in list(infer_series.keys()):\n",
    "    if k[0] > 1*60+25*0:\n",
    "        infer_series.pop(k)"
   ]
  },
  {
   "cell_type": "code",
   "execution_count": null,
   "id": "7b370ede-c0cb-4ea2-b448-8e1316337692",
   "metadata": {},
   "outputs": [],
   "source": [
    "def state_renew():\n",
    "    for k,v in states.items():\n",
    "        if str(type(v)) == str(recog.State):\n",
    "            for st1 in recog.State:\n",
    "                for st2 in recog.State:\n",
    "                    st = st1|st2\n",
    "                    if v.value == st.value:\n",
    "                        print(k, v.value, st, st.value)\n",
    "                        states[k] = st"
   ]
  },
  {
   "cell_type": "code",
   "execution_count": null,
   "id": "01495ea8-5c70-4a61-b446-aec7fa313dbd",
   "metadata": {},
   "outputs": [],
   "source": [
    "importlib.reload(recog) # do not reload! Otherwise isinstance(states[\"prev_judge\"], recog.State) == False\n",
    "state_renew()\n",
    "detect_series, detect_d_series, conc_series, _ = recog.Recog.detect_music(ast_model, infer_series, start, delta, duration, start, wav, sr, onto, interests, **states, entire_abs_mean=entire_abs_mean)"
   ]
  },
  {
   "cell_type": "code",
   "execution_count": null,
   "id": "8f739fda-5490-467e-a1fe-453d9999d728",
   "metadata": {},
   "outputs": [],
   "source": [
    "%matplotlib widget\n",
    "\n",
    "plot_all()"
   ]
  },
  {
   "cell_type": "code",
   "execution_count": null,
   "id": "e6435697-f24a-4544-9ed6-bd00ef658274",
   "metadata": {},
   "outputs": [],
   "source": [
    "importlib.reload(recog)\n",
    "importlib.reload(utils)\n",
    "\n",
    "tmp_series = utils.if_not_defined(__name__, \"tmp_series\", {})\n",
    "recog.Recog.back_to_change(ast_model, recog.State.Music|recog.State.Start, infer_series, 40, 0.5, 2, 26, wav, sr, onto, interests, thres = 1.0)\n",
    "\n",
    "#recog.Recog.is_music_starting(ast_model, infer_series, 30, 0.5, 2, 20.0, 5, wav, sr, onto, interests, thres=0.5)"
   ]
  },
  {
   "cell_type": "code",
   "execution_count": null,
   "id": "d604b483-8eab-409d-b0d3-e716ee786677",
   "metadata": {},
   "outputs": [],
   "source": [
    "for ident, ratio in infer_series[(75.5,0.5)][0].items():\n",
    "    print(f\"{onto.to_name(ident)}: {ratio}\")"
   ]
  },
  {
   "cell_type": "code",
   "execution_count": null,
   "id": "21e95e98-d0aa-427c-906d-916360ec884c",
   "metadata": {},
   "outputs": [],
   "source": [
    "importlib.reload(recog)\n",
    "recog.Recog.categorize(infer_series[(0.0, 0.5)][0], 35, 35, list(map(lambda o: o[\"id\"], onto[\"^(Music|Singing)$\"])), onto[\"^Human sounds$\"][0][\"id\"])"
   ]
  },
  {
   "cell_type": "code",
   "execution_count": null,
   "id": "f021e76d-9c8b-44d7-a320-d0924147bf64",
   "metadata": {},
   "outputs": [],
   "source": [
    "importlib.reload(recog)\n",
    "estim_seg = recog.Recog.estim_segment(ast_model, onto, infer_series, 10, 0.5, 4,   wav, sr, onto, interests, music_thres = 35, hs_thres = 35)\n",
    "print(estim_seg)"
   ]
  },
  {
   "cell_type": "code",
   "execution_count": null,
   "id": "03cf1366-f98d-44ea-91b8-043585b0c5b2",
   "metadata": {},
   "outputs": [],
   "source": [
    "importlib.reload(recog)\n",
    "\n",
    "recog.Recog.judge_segment(ast_model, onto, {}, 1000, 0.5, 2, wav, sr, onto, interests, aft_thres=3)"
   ]
  },
  {
   "cell_type": "code",
   "execution_count": null,
   "id": "fc23387d-873d-4b1a-924f-2c89a1c7709b",
   "metadata": {},
   "outputs": [],
   "source": [
    "importlib.reload(utils)\n",
    "\n",
    "# {(0,1): [\"A\"], (0,0.9): [\"B\"], (0.5, 0.3): [\"C\"]}\n",
    "for itv, states in utils.each_state(estim_seg):\n",
    "    print(f\"{itv}: {states}\")"
   ]
  },
  {
   "cell_type": "code",
   "execution_count": null,
   "id": "6b90eb40-a78a-40ec-9488-8171258baf18",
   "metadata": {},
   "outputs": [],
   "source": [
    "recog.State.Talking|recog.State.InProgress in (recog.State.Talking | recog.State.InProgress)"
   ]
  }
 ],
 "metadata": {
  "kernelspec": {
   "display_name": "Python 3 (ipykernel)",
   "language": "python",
   "name": "python3"
  },
  "language_info": {
   "codemirror_mode": {
    "name": "ipython",
    "version": 3
   },
   "file_extension": ".py",
   "mimetype": "text/x-python",
   "name": "python",
   "nbconvert_exporter": "python",
   "pygments_lexer": "ipython3",
   "version": "3.9.8"
  }
 },
 "nbformat": 4,
 "nbformat_minor": 5
}
