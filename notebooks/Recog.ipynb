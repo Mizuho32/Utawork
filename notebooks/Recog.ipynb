{
 "cells": [
  {
   "cell_type": "code",
   "execution_count": null,
   "id": "21e24c8c-c7c7-4894-9aec-2ac0a44846db",
   "metadata": {},
   "outputs": [],
   "source": [
    "import os, sys, csv, time\n",
    "import importlib\n",
    "import json, re\n",
    "\n",
    "#os.environ[\"CUDA_VISIBLE_DEVICES\"] = \"\"\n",
    "sys.path.append(os.path.join('../'))\n",
    "\n",
    "import pickle\n",
    "import librosa.display\n",
    "import scipy\n",
    "import numpy as np\n",
    "import matplotlib.pyplot as plt\n",
    "import ipympl\n",
    "import ipywidgets as wdg\n",
    "from ipywidgets import Layout, HBox, VBox\n",
    "import pygame\n",
    "\n",
    "import torchaudio\n",
    "import torch\n",
    "import IPython.display as ipd\n",
    "\n",
    "import src.recog as recog\n",
    "import src.utils as utils\n",
    "import nbutils\n",
    "\n",
    "sys.path.append(os.path.join('../ast/src'))\n",
    "from models import ASTModel\n",
    "\n",
    "os.environ['TORCH_HOME'] = '../ast/pretrained_models'\n",
    "\n",
    "torchaudio.set_audio_backend(\"soundfile\")\n",
    "\n",
    "def reload():\n",
    "    importlib.reload(recog)\n",
    "    importlib.reload(utils)\n",
    "    importlib.reload(nbutils)"
   ]
  },
  {
   "cell_type": "markdown",
   "id": "4b087296-80a2-4385-a44d-e65f5edd725d",
   "metadata": {},
   "source": [
    "## Set vars and Load models and other requirements"
   ]
  },
  {
   "cell_type": "code",
   "execution_count": null,
   "id": "f143218f-9a50-4afb-94c3-3b2c5faa5451",
   "metadata": {},
   "outputs": [],
   "source": [
    "sample_freq = 16000\n",
    "mel_bins = 128\n",
    "target_length = 1024\n",
    "\n",
    "interval = 10e-3 #ms\n",
    "win_length = 25e-3 #ms\n",
    "\n",
    "# hop_length is number of samples between successive frames.\n",
    "hop_length=int(sample_freq * interval)\n",
    "\n",
    "if not \"ast_model\" in vars(sys.modules[__name__]) or not ast_model:\n",
    "    ast_model = recog.Recog(ASTModel, target_length, \"../ast/egs/audioset/data/class_labels_indices.csv\")"
   ]
  },
  {
   "cell_type": "code",
   "execution_count": null,
   "id": "8871bfa3-79a2-466f-b667-bd73ba592e14",
   "metadata": {},
   "outputs": [],
   "source": [
    "ontology = utils.Ontology('../ontology/ontology.json')\n",
    "interests = ontology[utils.reg(r\"^(Singing|Music)$\")]"
   ]
  },
  {
   "cell_type": "code",
   "execution_count": null,
   "id": "a38c8109-2a26-46b4-a565-e87d68a9be80",
   "metadata": {},
   "outputs": [],
   "source": [
    "filename = \"../media/2022-3-5_TA_last4.flac\"\n",
    "save_dir = \"test\"\n",
    "\n",
    "start = 0\n",
    "clip_len = 5*60\n",
    "delta = .5\n",
    "duration = 2\n",
    "sr = int(44.1*1000)\n",
    "stop_time = 10*60"
   ]
  },
  {
   "cell_type": "markdown",
   "id": "35414cbd-166c-420e-ba54-56f208774dbb",
   "metadata": {},
   "source": [
    "## Do Inference"
   ]
  },
  {
   "cell_type": "code",
   "execution_count": null,
   "id": "664a46da-d050-43ec-ad9b-ce2d763a4165",
   "metadata": {},
   "outputs": [],
   "source": [
    "importlib.reload(recog)\n",
    "\n",
    "infer_series = utils.if_not_defined(__name__, \"infer_series\", {})\n",
    "infer_series, _, _, _ = recog.Recog.detect_music_main(ast_model, filename, save_dir, start, clip_len, delta, duration, ontology, interests, sr, stop_time=stop_time, infer_series=infer_series)"
   ]
  },
  {
   "cell_type": "markdown",
   "id": "74fd59eb-95b0-4c18-8ad8-7c2ea0dd2d49",
   "metadata": {},
   "source": [
    "## Load inference cache"
   ]
  },
  {
   "cell_type": "code",
   "execution_count": null,
   "id": "7efe3b13-5ae6-432b-964c-6e6a13c076f1",
   "metadata": {},
   "outputs": [],
   "source": [
    "importlib.reload(recog)\n",
    "\n",
    "metadata = recog.Recog.load_cache(save_dir, load_sr=44100, load_mono=True, load_wav=False)"
   ]
  },
  {
   "cell_type": "markdown",
   "id": "30cb6d69-cc0b-429e-8e2e-11c12443c824",
   "metadata": {},
   "source": [
    "### Merge music intervals and save as audacity label text"
   ]
  },
  {
   "cell_type": "code",
   "execution_count": null,
   "id": "f65c6c1f-b957-4981-8a0d-b31a7b06793a",
   "metadata": {},
   "outputs": [],
   "source": [
    "reload()\n",
    "\n",
    "#nbutils.update_metadata(nbutils.state_map(recog), metadata) # only for jupyter\n",
    "\n",
    "music_itvs, itvs = recog.Recog.merge_intervals(metadata)\n",
    "print(music_itvs)\n",
    "print(itvs)"
   ]
  },
  {
   "cell_type": "code",
   "execution_count": null,
   "id": "54f4fcd8-cd60-464f-afb1-ea137d232d20",
   "metadata": {},
   "outputs": [],
   "source": [
    "import pathlib\n",
    "\n",
    "aud_txt = \"\\n\".join(map(lambda itv: \"\\t\".join(map(lambda sec: str(sec), itv)), music_itvs.values()))\n",
    "print(aud_txt)\n",
    "flac_path = pathlib.Path(filename)\n",
    "\n",
    "with open(flac_path.parent / f\"{flac_path.stem}_detect.txt\", \"w\") as f:\n",
    "    f.write(aud_txt)"
   ]
  },
  {
   "cell_type": "markdown",
   "id": "fba97e57-a449-4fb8-b595-a8273a767bd4",
   "metadata": {},
   "source": [
    "## Plots"
   ]
  },
  {
   "cell_type": "code",
   "execution_count": null,
   "id": "a39fda93-f423-41b1-8f30-77f770ea6dca",
   "metadata": {},
   "outputs": [],
   "source": [
    "reload()\n",
    "\n",
    "%matplotlib widget\n",
    "nbutils.plot_all(metadata, 0, ontology, pygame, recog)"
   ]
  },
  {
   "cell_type": "code",
   "execution_count": null,
   "id": "9461d07c-be29-4c74-8d5b-144c80ff6d6c",
   "metadata": {},
   "outputs": [],
   "source": [
    "reload()\n",
    "\n",
    "%matplotlib widget\n",
    "nbutils.plot_all(metadata, 1, ontology, pygame, recog)"
   ]
  },
  {
   "cell_type": "markdown",
   "id": "ffadb644-d6c0-4fd5-accc-086dd2fbdabc",
   "metadata": {},
   "source": [
    "## Draft code"
   ]
  },
  {
   "cell_type": "code",
   "execution_count": null,
   "id": "c799d352-f430-4b22-b3eb-ecbb79220138",
   "metadata": {},
   "outputs": [],
   "source": [
    "test_sr = int(44.1*1000)\n",
    "y, sr = librosa.load(filename, sr=test_sr, mono=True, offset=3*60+33, duration=7*60+35-(3*60+33))\n",
    "y = y.reshape(1, y.shape[0])"
   ]
  },
  {
   "cell_type": "code",
   "execution_count": null,
   "id": "ce96e8f1-eda8-49d4-9f84-5bb7e0f6695f",
   "metadata": {},
   "outputs": [],
   "source": [
    "delta = .5\n",
    "duration = 2\n",
    "start = 0#+100\n",
    "cut_length = 60+30\n",
    "tmp_series = utils.if_not_defined(__name__, \"tmp_series\", {})\n",
    "\n",
    "wav = y[..., int(test_sr*start):int(test_sr*(cut_length+start))]\n",
    "entire_abs_mean = np.abs(y).mean()"
   ]
  },
  {
   "cell_type": "code",
   "execution_count": null,
   "id": "8b0ad277-0626-478d-945f-ce79d133b409",
   "metadata": {},
   "outputs": [],
   "source": [
    "importlib.reload(recog)\n",
    "importlib.reload(utils)\n",
    "detect_series, detect_d_series, conc_series, states = recog.Recog.detect_music(ast_model, tmp_series, start, delta, duration, start, wav, test_sr, ontology, interests, entire_abs_mean=entire_abs_mean)"
   ]
  },
  {
   "cell_type": "code",
   "execution_count": null,
   "id": "5c925b90-cde1-4497-b03b-473ba5e731be",
   "metadata": {},
   "outputs": [],
   "source": [
    "%matplotlib widget\n",
    "importlib.reload(recog)\n",
    "tmp={}\n",
    "\n",
    "def onclick(event):\n",
    "    text = 'event.button=%d,  event.x=%d, event.y=%d, event.xdata=%f, event.ydata=%f' % (event.button, event.x, event.y, event.xdata, event.ydata)\n",
    "    print(text)\n",
    "    tmp[\"y_cut\"] = y[:, int(sr*event.xdata):-1]\n",
    "    sound = pygame.sndarray.make_sound((32768*tmp[\"y_cut\"].transpose(1,0).copy(order=\"C\")).astype(np.int16))\n",
    "    sound.play()\n",
    "    tmp[\"sound\"] = sound\n",
    "\n",
    "def on_click_callback(clicked_button: wdg.Button) -> None:\n",
    "    tmp[\"sound\"].stop()\n",
    "\n",
    "def plot_all():\n",
    "    button = wdg.Button(description='Stop')\n",
    "    qbutton = wdg.Button(description=\"Quit\")\n",
    "    button.on_click(on_click_callback)\n",
    "    qbutton.on_click(lambda b: pygame.mixer.quit())\n",
    "\n",
    "    # for stop, pygame.mixer.quit()\n",
    "    pygame.mixer.pre_init(sr, size=-16, channels=2)\n",
    "    pygame.mixer.init()\n",
    "\n",
    "    fig, ax = plt.subplots(nrows=5, sharex=True)\n",
    "    recog.Recog.waveplot(plt, librosa, wav, sr, ax=ax[0], offset=start, max_sr=2)\n",
    "    recog.Recog.classifyshow(ontology, tmp_series, ax=ax[1])\n",
    "    recog.Recog.state_show([recog.State.Music, recog.State.Talking, recog.State.Other], conc_series, ax=ax[2])\n",
    "    recog.Recog.detect_show(detect_series, xstep=4, ax=ax[3])\n",
    "    recog.Recog.detect_show(detect_d_series, xstep=5, ax=ax[4])\n",
    "\n",
    "    fig.set_size_inches(16, 8)\n",
    "    for a in ax:\n",
    "        a.xaxis.grid()\n",
    "    cid = fig.canvas.mpl_connect('button_press_event', onclick)\n",
    "\n",
    "    #display(txt)\n",
    "    return HBox([button, qbutton])\n",
    "\n",
    "plot_all()"
   ]
  }
 ],
 "metadata": {
  "kernelspec": {
   "display_name": "Python 3 (ipykernel)",
   "language": "python",
   "name": "python3"
  },
  "language_info": {
   "codemirror_mode": {
    "name": "ipython",
    "version": 3
   },
   "file_extension": ".py",
   "mimetype": "text/x-python",
   "name": "python",
   "nbconvert_exporter": "python",
   "pygments_lexer": "ipython3",
   "version": "3.9.8"
  }
 },
 "nbformat": 4,
 "nbformat_minor": 5
}
